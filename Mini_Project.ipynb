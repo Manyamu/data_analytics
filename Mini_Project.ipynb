{
  "nbformat": 4,
  "nbformat_minor": 0,
  "metadata": {
    "colab": {
      "name": "Mini Project",
      "provenance": [],
      "collapsed_sections": [],
      "authorship_tag": "ABX9TyN3loH9sw+wIGsN43E5O5yl",
      "include_colab_link": true
    },
    "kernelspec": {
      "name": "python3",
      "display_name": "Python 3"
    }
  },
  "cells": [
    {
      "cell_type": "markdown",
      "metadata": {
        "id": "view-in-github",
        "colab_type": "text"
      },
      "source": [
        "<a href=\"https://colab.research.google.com/github/Manyamu/data_analytics/blob/main/Mini_Project.ipynb\" target=\"_parent\"><img src=\"https://colab.research.google.com/assets/colab-badge.svg\" alt=\"Open In Colab\"/></a>"
      ]
    },
    {
      "cell_type": "code",
      "metadata": {
        "id": "KGQP2HXV4lCg"
      },
      "source": [
        "#Asking the user for a number\n"
      ],
      "execution_count": null,
      "outputs": []
    },
    {
      "cell_type": "code",
      "metadata": {
        "id": "Rd0VNcDGuZ9J"
      },
      "source": [
        "number = int(input(\"Please enter a number: \"))"
      ],
      "execution_count": null,
      "outputs": []
    },
    {
      "cell_type": "code",
      "metadata": {
        "id": "0mK40rQI9jiN"
      },
      "source": [
        "# Is the number even or odd? "
      ],
      "execution_count": null,
      "outputs": []
    },
    {
      "cell_type": "code",
      "metadata": {
        "id": "ocJPBRrBvd8H"
      },
      "source": [
        "number = int(input(\"Please enter a number: \"))\n",
        "\n",
        "def even(number):\n",
        "    return number%2==0\n",
        "\n",
        "number= int(input(\"Enter the number again to see if it's even or odd: \"))\n",
        "if even(number): print(str(number) + \" is a even number.\")\n",
        "else: print(str(number) + \" is a odd number.\")"
      ],
      "execution_count": null,
      "outputs": []
    },
    {
      "cell_type": "code",
      "metadata": {
        "id": "HXiV438PrB62"
      },
      "source": [
        "#Bones: If the number is a multiple of 4,"
      ],
      "execution_count": null,
      "outputs": []
    },
    {
      "cell_type": "code",
      "metadata": {
        "id": "8KmI_QOYtwus"
      },
      "source": [
        "number = int(input(\"give me a number: \"))\n",
        "\n",
        "if number % 4 == 0:\n",
        "    print(number, \"is a multiple of 4\")\n",
        "elif number % 2 == 0:\n",
        "    print(number, \"is an even number and not a multiple of 4\")\n",
        "else:\n",
        "    print(number, \"is an odd number and not a multiple of 4\")\n",
        "\n"
      ],
      "execution_count": null,
      "outputs": []
    },
    {
      "cell_type": "code",
      "metadata": {
        "id": "z7YTrsmJvtux"
      },
      "source": [
        "#Bones: Divison"
      ],
      "execution_count": null,
      "outputs": []
    },
    {
      "cell_type": "code",
      "metadata": {
        "id": "yDkQSUYBx1NS"
      },
      "source": [
        "num = int(input(\"enter your num number \"))\n",
        "check = int(input(\"enter your check number \"))\n",
        "\n",
        "if num/check % 1 ==0 :\n",
        "  print(\"your num number can be evenly divided by your check number! \")\n",
        "else :\n",
        "  print(\"your num number can not be evenly divided by your check number. \")"
      ],
      "execution_count": null,
      "outputs": []
    }
  ]
}